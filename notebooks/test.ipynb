{
 "cells": [
  {
   "cell_type": "code",
   "execution_count": 1,
   "metadata": {},
   "outputs": [
    {
     "data": {
      "text/plain": [
       "(115475, 13)"
      ]
     },
     "execution_count": 1,
     "metadata": {},
     "output_type": "execute_result"
    }
   ],
   "source": [
    "import pandas as pd\n",
    "df = pd.read_csv('../data/train.csv')\n",
    "df.shape"
   ]
  },
  {
   "cell_type": "code",
   "execution_count": 25,
   "metadata": {},
   "outputs": [
    {
     "name": "stdout",
     "output_type": "stream",
     "text": [
      "<class 'pandas.core.frame.DataFrame'>\n",
      "RangeIndex: 28248 entries, 0 to 28247\n",
      "Data columns (total 13 columns):\n",
      " #   Column                          Non-Null Count  Dtype \n",
      "---  ------                          --------------  ----- \n",
      " 0   case_id                         28248 non-null  object\n",
      " 1   equipment_id                    28248 non-null  object\n",
      " 2   completion_date                 28248 non-null  object\n",
      " 3   action_recommendation_id        28248 non-null  object\n",
      " 4   action_recommendation_type      28248 non-null  object\n",
      " 5   action_recommendation_category  28248 non-null  object\n",
      " 6   equipment_area                  28248 non-null  object\n",
      " 7   usage_type                      28248 non-null  object\n",
      " 8   speed_category                  28248 non-null  int64 \n",
      " 9   load_category                   28248 non-null  int64 \n",
      " 10  floors_category                 28248 non-null  int64 \n",
      " 11  equipment_category              28248 non-null  object\n",
      " 12  feedback                        28248 non-null  int64 \n",
      "dtypes: int64(4), object(9)\n",
      "memory usage: 2.8+ MB\n"
     ]
    }
   ],
   "source": [
    "df.info()"
   ]
  },
  {
   "cell_type": "code",
   "execution_count": 149,
   "metadata": {},
   "outputs": [
    {
     "data": {
      "text/plain": [
       "0        2018-10-03\n",
       "1        2018-10-03\n",
       "2        2018-10-04\n",
       "3        2018-10-04\n",
       "4        2018-10-04\n",
       "            ...    \n",
       "28243    2019-08-22\n",
       "28244    2019-01-02\n",
       "28245    2019-07-29\n",
       "28246    2019-11-28\n",
       "28247    2019-05-30\n",
       "Name: completion_date, Length: 28248, dtype: object"
      ]
     },
     "execution_count": 149,
     "metadata": {},
     "output_type": "execute_result"
    }
   ],
   "source": [
    "df['completion_date']"
   ]
  },
  {
   "cell_type": "code",
   "execution_count": 2,
   "metadata": {},
   "outputs": [
    {
     "name": "stdout",
     "output_type": "stream",
     "text": [
      "case_id 73945\n",
      "equipment_id 30000\n",
      "completion_date 466\n",
      "action_recommendation_id 295\n",
      "action_recommendation_type 3\n",
      "action_recommendation_category 6\n",
      "equipment_area 1285\n",
      "usage_type 13\n",
      "speed_category 8\n",
      "load_category 8\n",
      "floors_category 8\n",
      "equipment_category 20\n",
      "feedback 2\n"
     ]
    }
   ],
   "source": [
    "# Explore feature dofs\n",
    "for colname in df.columns:\n",
    "    print(colname, df[colname].unique().size)"
   ]
  },
  {
   "cell_type": "code",
   "execution_count": 3,
   "metadata": {},
   "outputs": [
    {
     "data": {
      "text/plain": [
       "0.8776878112145486"
      ]
     },
     "execution_count": 3,
     "metadata": {},
     "output_type": "execute_result"
    }
   ],
   "source": [
    "# Explore label imbalance\n",
    "negative, positive = df.groupby('feedback')['feedback'].count()\n",
    "positive/(negative+positive)"
   ]
  },
  {
   "cell_type": "code",
   "execution_count": 4,
   "metadata": {},
   "outputs": [
    {
     "data": {
      "text/plain": [
       "((28248, 13), (28248,))"
      ]
     },
     "execution_count": 4,
     "metadata": {},
     "output_type": "execute_result"
    }
   ],
   "source": [
    "# Employ under sampling to balance out labels\n",
    "from imblearn.under_sampling import RandomUnderSampler\n",
    "sampler = RandomUnderSampler(sampling_strategy='not minority', random_state=1)\n",
    "df, df_balanced_labels = sampler.fit_resample(df, df['feedback'])\n",
    "df.shape, df_balanced_labels.shape"
   ]
  },
  {
   "cell_type": "code",
   "execution_count": 132,
   "metadata": {},
   "outputs": [
    {
     "data": {
      "text/plain": [
       "((28248, 9), (28248,))"
      ]
     },
     "execution_count": 132,
     "metadata": {},
     "output_type": "execute_result"
    }
   ],
   "source": [
    "# Collect features, labels\n",
    "x = df[[\n",
    "    'action_recommendation_id',\n",
    "    'action_recommendation_type',\n",
    "    'action_recommendation_category',\n",
    "    'equipment_area',\n",
    "    'equipment_category',\n",
    "    'floors_category',\n",
    "    'load_category',\n",
    "    'speed_category',\n",
    "    'usage_type',\n",
    "]]\n",
    "y = df['feedback']\n",
    "x.shape, y.shape"
   ]
  },
  {
   "cell_type": "code",
   "execution_count": 133,
   "metadata": {},
   "outputs": [
    {
     "data": {
      "text/plain": [
       "defaultdict(sklearn.preprocessing._label.LabelEncoder, {})"
      ]
     },
     "execution_count": 133,
     "metadata": {},
     "output_type": "execute_result"
    }
   ],
   "source": [
    "# Employ label encoder to convert categories to numeric\n",
    "from sklearn.preprocessing import LabelEncoder\n",
    "from collections import defaultdict\n",
    "label_encoder = defaultdict(LabelEncoder)\n",
    "label_encoder"
   ]
  },
  {
   "cell_type": "code",
   "execution_count": 134,
   "metadata": {},
   "outputs": [
    {
     "data": {
      "text/plain": [
       "(28248, 9)"
      ]
     },
     "execution_count": 134,
     "metadata": {},
     "output_type": "execute_result"
    }
   ],
   "source": [
    "# Apply label encoder\n",
    "x = x.apply(lambda feature: label_encoder[feature.name].fit_transform(feature))\n",
    "x.shape"
   ]
  },
  {
   "cell_type": "code",
   "execution_count": 135,
   "metadata": {},
   "outputs": [
    {
     "data": {
      "text/plain": [
       "((25423, 9), (2825, 9), (25423,), (2825,))"
      ]
     },
     "execution_count": 135,
     "metadata": {},
     "output_type": "execute_result"
    }
   ],
   "source": [
    "# Apply train, test split\n",
    "from sklearn.model_selection import train_test_split\n",
    "x_train, x_test, y_train, y_test = train_test_split(x, y, test_size=0.1)\n",
    "x_train.shape, x_test.shape, y_train.shape, y_test.shape"
   ]
  },
  {
   "cell_type": "code",
   "execution_count": 163,
   "metadata": {},
   "outputs": [
    {
     "name": "stderr",
     "output_type": "stream",
     "text": [
      "/Users/andreas/.pyenv/versions/3.8.2/envs/research/lib/python3.8/site-packages/sklearn/linear_model/_logistic.py:814: ConvergenceWarning: lbfgs failed to converge (status=1):\n",
      "STOP: TOTAL NO. of ITERATIONS REACHED LIMIT.\n",
      "\n",
      "Increase the number of iterations (max_iter) or scale the data as shown in:\n",
      "    https://scikit-learn.org/stable/modules/preprocessing.html\n",
      "Please also refer to the documentation for alternative solver options:\n",
      "    https://scikit-learn.org/stable/modules/linear_model.html#logistic-regression\n",
      "  n_iter_i = _check_optimize_result(\n"
     ]
    },
    {
     "data": {
      "text/plain": [
       "0.6010619469026549"
      ]
     },
     "execution_count": 163,
     "metadata": {},
     "output_type": "execute_result"
    }
   ],
   "source": [
    "# Compute baseline with logistic regression\n",
    "from sklearn.linear_model import LogisticRegression\n",
    "lr = LogisticRegression(random_state=0, max_iter=250).fit(x_train, y_train)\n",
    "lr.score(x_test, y_test)"
   ]
  },
  {
   "cell_type": "code",
   "execution_count": 139,
   "metadata": {},
   "outputs": [
    {
     "data": {
      "text/plain": [
       "LGBMClassifier()"
      ]
     },
     "execution_count": 139,
     "metadata": {},
     "output_type": "execute_result"
    }
   ],
   "source": [
    "# Compute baseline with lightgbm\n",
    "import lightgbm as lgb\n",
    "clf = lgb.LGBMClassifier()\n",
    "clf.fit(x_train, y_train)"
   ]
  },
  {
   "cell_type": "code",
   "execution_count": 140,
   "metadata": {},
   "outputs": [
    {
     "data": {
      "text/plain": [
       "0.744070796460177"
      ]
     },
     "execution_count": 140,
     "metadata": {},
     "output_type": "execute_result"
    }
   ],
   "source": [
    "clf.score(x_test, y_test)"
   ]
  },
  {
   "cell_type": "code",
   "execution_count": 141,
   "metadata": {},
   "outputs": [],
   "source": [
    "from sklearn.metrics import confusion_matrix, classification_report"
   ]
  },
  {
   "cell_type": "code",
   "execution_count": 142,
   "metadata": {},
   "outputs": [
    {
     "name": "stdout",
     "output_type": "stream",
     "text": [
      "[[ 997  395]\n",
      " [ 328 1105]]\n"
     ]
    }
   ],
   "source": [
    "print(confusion_matrix(y_test, clf.predict(x_test)))"
   ]
  },
  {
   "cell_type": "code",
   "execution_count": 143,
   "metadata": {},
   "outputs": [
    {
     "name": "stdout",
     "output_type": "stream",
     "text": [
      "              precision    recall  f1-score   support\n",
      "\n",
      "           0       0.75      0.72      0.73      1392\n",
      "           1       0.74      0.77      0.75      1433\n",
      "\n",
      "    accuracy                           0.74      2825\n",
      "   macro avg       0.74      0.74      0.74      2825\n",
      "weighted avg       0.74      0.74      0.74      2825\n",
      "\n"
     ]
    }
   ],
   "source": [
    "print(classification_report(y_test, clf.predict(x_test)))"
   ]
  },
  {
   "cell_type": "code",
   "execution_count": 144,
   "metadata": {},
   "outputs": [
    {
     "name": "stdout",
     "output_type": "stream",
     "text": [
      "Learning rate set to 0.179441\n",
      "0:\tlearn: 0.6774661\ttotal: 4.44ms\tremaining: 884ms\n",
      "1:\tlearn: 0.6663638\ttotal: 7.75ms\tremaining: 768ms\n",
      "2:\tlearn: 0.6579575\ttotal: 10.9ms\tremaining: 718ms\n",
      "3:\tlearn: 0.6527890\ttotal: 13.6ms\tremaining: 665ms\n",
      "4:\tlearn: 0.6473546\ttotal: 16.4ms\tremaining: 640ms\n",
      "5:\tlearn: 0.6440768\ttotal: 19.2ms\tremaining: 620ms\n",
      "6:\tlearn: 0.6413050\ttotal: 22.1ms\tremaining: 610ms\n",
      "7:\tlearn: 0.6392073\ttotal: 25.1ms\tremaining: 604ms\n",
      "8:\tlearn: 0.6373419\ttotal: 28ms\tremaining: 595ms\n",
      "9:\tlearn: 0.6343463\ttotal: 31.9ms\tremaining: 607ms\n",
      "10:\tlearn: 0.6320788\ttotal: 34.9ms\tremaining: 600ms\n",
      "11:\tlearn: 0.6305503\ttotal: 38ms\tremaining: 595ms\n",
      "12:\tlearn: 0.6286103\ttotal: 41.3ms\tremaining: 594ms\n",
      "13:\tlearn: 0.6271832\ttotal: 44.3ms\tremaining: 588ms\n",
      "14:\tlearn: 0.6262656\ttotal: 47.4ms\tremaining: 585ms\n",
      "15:\tlearn: 0.6249544\ttotal: 50.8ms\tremaining: 584ms\n",
      "16:\tlearn: 0.6233045\ttotal: 53.2ms\tremaining: 572ms\n",
      "17:\tlearn: 0.6223615\ttotal: 55.6ms\tremaining: 563ms\n",
      "18:\tlearn: 0.6210990\ttotal: 58ms\tremaining: 552ms\n",
      "19:\tlearn: 0.6203426\ttotal: 60.5ms\tremaining: 544ms\n",
      "20:\tlearn: 0.6184835\ttotal: 63.2ms\tremaining: 539ms\n",
      "21:\tlearn: 0.6173739\ttotal: 65.5ms\tremaining: 530ms\n",
      "22:\tlearn: 0.6156282\ttotal: 67.8ms\tremaining: 522ms\n",
      "23:\tlearn: 0.6148338\ttotal: 70.3ms\tremaining: 515ms\n",
      "24:\tlearn: 0.6140945\ttotal: 72.6ms\tremaining: 508ms\n",
      "25:\tlearn: 0.6127014\ttotal: 75ms\tremaining: 502ms\n",
      "26:\tlearn: 0.6114874\ttotal: 77.4ms\tremaining: 496ms\n",
      "27:\tlearn: 0.6105843\ttotal: 79.5ms\tremaining: 488ms\n",
      "28:\tlearn: 0.6092434\ttotal: 81.6ms\tremaining: 481ms\n",
      "29:\tlearn: 0.6079402\ttotal: 84ms\tremaining: 476ms\n",
      "30:\tlearn: 0.6074025\ttotal: 86.5ms\tremaining: 471ms\n",
      "31:\tlearn: 0.6060630\ttotal: 88.9ms\tremaining: 467ms\n",
      "32:\tlearn: 0.6048587\ttotal: 91.2ms\tremaining: 462ms\n",
      "33:\tlearn: 0.6037268\ttotal: 93.7ms\tremaining: 457ms\n",
      "34:\tlearn: 0.6031285\ttotal: 96ms\tremaining: 453ms\n",
      "35:\tlearn: 0.6021862\ttotal: 98.5ms\tremaining: 449ms\n",
      "36:\tlearn: 0.6011952\ttotal: 101ms\tremaining: 445ms\n",
      "37:\tlearn: 0.6002964\ttotal: 103ms\tremaining: 441ms\n",
      "38:\tlearn: 0.5996910\ttotal: 106ms\tremaining: 437ms\n",
      "39:\tlearn: 0.5989445\ttotal: 108ms\tremaining: 433ms\n",
      "40:\tlearn: 0.5977261\ttotal: 111ms\tremaining: 429ms\n",
      "41:\tlearn: 0.5965957\ttotal: 113ms\tremaining: 425ms\n",
      "42:\tlearn: 0.5959215\ttotal: 115ms\tremaining: 422ms\n",
      "43:\tlearn: 0.5951336\ttotal: 118ms\tremaining: 418ms\n",
      "44:\tlearn: 0.5945475\ttotal: 120ms\tremaining: 414ms\n",
      "45:\tlearn: 0.5927566\ttotal: 123ms\tremaining: 411ms\n",
      "46:\tlearn: 0.5918732\ttotal: 125ms\tremaining: 407ms\n",
      "47:\tlearn: 0.5909393\ttotal: 127ms\tremaining: 403ms\n",
      "48:\tlearn: 0.5901547\ttotal: 130ms\tremaining: 400ms\n",
      "49:\tlearn: 0.5893549\ttotal: 132ms\tremaining: 397ms\n",
      "50:\tlearn: 0.5886810\ttotal: 135ms\tremaining: 393ms\n",
      "51:\tlearn: 0.5882656\ttotal: 137ms\tremaining: 390ms\n",
      "52:\tlearn: 0.5873843\ttotal: 140ms\tremaining: 387ms\n",
      "53:\tlearn: 0.5866568\ttotal: 142ms\tremaining: 384ms\n",
      "54:\tlearn: 0.5860803\ttotal: 144ms\tremaining: 380ms\n",
      "55:\tlearn: 0.5856578\ttotal: 147ms\tremaining: 377ms\n",
      "56:\tlearn: 0.5847676\ttotal: 149ms\tremaining: 374ms\n",
      "57:\tlearn: 0.5839589\ttotal: 151ms\tremaining: 371ms\n",
      "58:\tlearn: 0.5828140\ttotal: 154ms\tremaining: 368ms\n",
      "59:\tlearn: 0.5820843\ttotal: 156ms\tremaining: 365ms\n",
      "60:\tlearn: 0.5814203\ttotal: 159ms\tremaining: 361ms\n",
      "61:\tlearn: 0.5808011\ttotal: 161ms\tremaining: 358ms\n",
      "62:\tlearn: 0.5797130\ttotal: 163ms\tremaining: 355ms\n",
      "63:\tlearn: 0.5788511\ttotal: 165ms\tremaining: 352ms\n",
      "64:\tlearn: 0.5778289\ttotal: 168ms\tremaining: 349ms\n",
      "65:\tlearn: 0.5769861\ttotal: 170ms\tremaining: 345ms\n",
      "66:\tlearn: 0.5762618\ttotal: 173ms\tremaining: 342ms\n",
      "67:\tlearn: 0.5756055\ttotal: 175ms\tremaining: 340ms\n",
      "68:\tlearn: 0.5749833\ttotal: 177ms\tremaining: 337ms\n",
      "69:\tlearn: 0.5738423\ttotal: 180ms\tremaining: 334ms\n",
      "70:\tlearn: 0.5730877\ttotal: 182ms\tremaining: 331ms\n",
      "71:\tlearn: 0.5720569\ttotal: 185ms\tremaining: 328ms\n",
      "72:\tlearn: 0.5715489\ttotal: 188ms\tremaining: 326ms\n",
      "73:\tlearn: 0.5708521\ttotal: 190ms\tremaining: 324ms\n",
      "74:\tlearn: 0.5699363\ttotal: 193ms\tremaining: 321ms\n",
      "75:\tlearn: 0.5694188\ttotal: 195ms\tremaining: 319ms\n",
      "76:\tlearn: 0.5690466\ttotal: 198ms\tremaining: 316ms\n",
      "77:\tlearn: 0.5683802\ttotal: 200ms\tremaining: 313ms\n",
      "78:\tlearn: 0.5676885\ttotal: 203ms\tremaining: 311ms\n",
      "79:\tlearn: 0.5671208\ttotal: 207ms\tremaining: 310ms\n",
      "80:\tlearn: 0.5666024\ttotal: 209ms\tremaining: 307ms\n",
      "81:\tlearn: 0.5661152\ttotal: 212ms\tremaining: 305ms\n",
      "82:\tlearn: 0.5654092\ttotal: 214ms\tremaining: 302ms\n",
      "83:\tlearn: 0.5647802\ttotal: 217ms\tremaining: 300ms\n",
      "84:\tlearn: 0.5640665\ttotal: 220ms\tremaining: 297ms\n",
      "85:\tlearn: 0.5634601\ttotal: 222ms\tremaining: 295ms\n",
      "86:\tlearn: 0.5629902\ttotal: 225ms\tremaining: 292ms\n",
      "87:\tlearn: 0.5619522\ttotal: 227ms\tremaining: 290ms\n",
      "88:\tlearn: 0.5612633\ttotal: 230ms\tremaining: 287ms\n",
      "89:\tlearn: 0.5602259\ttotal: 233ms\tremaining: 284ms\n",
      "90:\tlearn: 0.5594406\ttotal: 235ms\tremaining: 282ms\n",
      "91:\tlearn: 0.5588443\ttotal: 238ms\tremaining: 279ms\n",
      "92:\tlearn: 0.5582019\ttotal: 240ms\tremaining: 276ms\n",
      "93:\tlearn: 0.5577754\ttotal: 243ms\tremaining: 274ms\n",
      "94:\tlearn: 0.5567268\ttotal: 245ms\tremaining: 271ms\n",
      "95:\tlearn: 0.5563021\ttotal: 248ms\tremaining: 268ms\n",
      "96:\tlearn: 0.5556496\ttotal: 250ms\tremaining: 266ms\n",
      "97:\tlearn: 0.5552297\ttotal: 253ms\tremaining: 263ms\n",
      "98:\tlearn: 0.5549425\ttotal: 255ms\tremaining: 260ms\n",
      "99:\tlearn: 0.5544295\ttotal: 257ms\tremaining: 257ms\n",
      "100:\tlearn: 0.5539703\ttotal: 260ms\tremaining: 255ms\n",
      "101:\tlearn: 0.5534373\ttotal: 262ms\tremaining: 252ms\n",
      "102:\tlearn: 0.5529973\ttotal: 265ms\tremaining: 249ms\n",
      "103:\tlearn: 0.5523424\ttotal: 267ms\tremaining: 246ms\n",
      "104:\tlearn: 0.5518936\ttotal: 269ms\tremaining: 244ms\n",
      "105:\tlearn: 0.5512842\ttotal: 272ms\tremaining: 241ms\n",
      "106:\tlearn: 0.5508695\ttotal: 274ms\tremaining: 238ms\n",
      "107:\tlearn: 0.5502773\ttotal: 276ms\tremaining: 236ms\n",
      "108:\tlearn: 0.5493459\ttotal: 279ms\tremaining: 233ms\n",
      "109:\tlearn: 0.5489367\ttotal: 281ms\tremaining: 230ms\n",
      "110:\tlearn: 0.5479890\ttotal: 284ms\tremaining: 228ms\n",
      "111:\tlearn: 0.5474316\ttotal: 287ms\tremaining: 225ms\n",
      "112:\tlearn: 0.5470605\ttotal: 290ms\tremaining: 223ms\n",
      "113:\tlearn: 0.5465974\ttotal: 292ms\tremaining: 220ms\n",
      "114:\tlearn: 0.5461302\ttotal: 295ms\tremaining: 218ms\n",
      "115:\tlearn: 0.5456865\ttotal: 298ms\tremaining: 215ms\n",
      "116:\tlearn: 0.5453497\ttotal: 301ms\tremaining: 213ms\n",
      "117:\tlearn: 0.5448257\ttotal: 303ms\tremaining: 211ms\n",
      "118:\tlearn: 0.5445056\ttotal: 306ms\tremaining: 208ms\n",
      "119:\tlearn: 0.5442058\ttotal: 309ms\tremaining: 206ms\n",
      "120:\tlearn: 0.5438705\ttotal: 311ms\tremaining: 203ms\n",
      "121:\tlearn: 0.5434106\ttotal: 314ms\tremaining: 201ms\n",
      "122:\tlearn: 0.5431366\ttotal: 317ms\tremaining: 198ms\n",
      "123:\tlearn: 0.5426312\ttotal: 319ms\tremaining: 196ms\n",
      "124:\tlearn: 0.5422519\ttotal: 322ms\tremaining: 193ms\n",
      "125:\tlearn: 0.5418244\ttotal: 324ms\tremaining: 190ms\n",
      "126:\tlearn: 0.5411545\ttotal: 327ms\tremaining: 188ms\n",
      "127:\tlearn: 0.5403577\ttotal: 329ms\tremaining: 185ms\n",
      "128:\tlearn: 0.5399524\ttotal: 332ms\tremaining: 183ms\n",
      "129:\tlearn: 0.5394673\ttotal: 335ms\tremaining: 180ms\n",
      "130:\tlearn: 0.5387438\ttotal: 337ms\tremaining: 177ms\n",
      "131:\tlearn: 0.5383560\ttotal: 340ms\tremaining: 175ms\n",
      "132:\tlearn: 0.5379501\ttotal: 342ms\tremaining: 172ms\n",
      "133:\tlearn: 0.5375315\ttotal: 345ms\tremaining: 170ms\n",
      "134:\tlearn: 0.5370191\ttotal: 347ms\tremaining: 167ms\n",
      "135:\tlearn: 0.5366556\ttotal: 350ms\tremaining: 165ms\n",
      "136:\tlearn: 0.5363586\ttotal: 353ms\tremaining: 162ms\n",
      "137:\tlearn: 0.5357264\ttotal: 355ms\tremaining: 160ms\n",
      "138:\tlearn: 0.5354559\ttotal: 358ms\tremaining: 157ms\n",
      "139:\tlearn: 0.5350060\ttotal: 360ms\tremaining: 154ms\n",
      "140:\tlearn: 0.5347372\ttotal: 363ms\tremaining: 152ms\n",
      "141:\tlearn: 0.5343760\ttotal: 365ms\tremaining: 149ms\n",
      "142:\tlearn: 0.5340556\ttotal: 368ms\tremaining: 147ms\n",
      "143:\tlearn: 0.5334889\ttotal: 371ms\tremaining: 144ms\n",
      "144:\tlearn: 0.5332046\ttotal: 373ms\tremaining: 142ms\n",
      "145:\tlearn: 0.5329121\ttotal: 376ms\tremaining: 139ms\n",
      "146:\tlearn: 0.5326135\ttotal: 379ms\tremaining: 136ms\n",
      "147:\tlearn: 0.5319944\ttotal: 381ms\tremaining: 134ms\n",
      "148:\tlearn: 0.5315168\ttotal: 384ms\tremaining: 132ms\n",
      "149:\tlearn: 0.5311295\ttotal: 387ms\tremaining: 129ms\n",
      "150:\tlearn: 0.5308122\ttotal: 390ms\tremaining: 126ms\n",
      "151:\tlearn: 0.5304429\ttotal: 394ms\tremaining: 124ms\n",
      "152:\tlearn: 0.5300490\ttotal: 397ms\tremaining: 122ms\n",
      "153:\tlearn: 0.5296619\ttotal: 400ms\tremaining: 120ms\n",
      "154:\tlearn: 0.5293892\ttotal: 403ms\tremaining: 117ms\n",
      "155:\tlearn: 0.5291279\ttotal: 406ms\tremaining: 115ms\n",
      "156:\tlearn: 0.5287989\ttotal: 409ms\tremaining: 112ms\n",
      "157:\tlearn: 0.5282277\ttotal: 413ms\tremaining: 110ms\n",
      "158:\tlearn: 0.5276846\ttotal: 416ms\tremaining: 107ms\n",
      "159:\tlearn: 0.5274188\ttotal: 419ms\tremaining: 105ms\n",
      "160:\tlearn: 0.5271190\ttotal: 422ms\tremaining: 102ms\n",
      "161:\tlearn: 0.5267532\ttotal: 425ms\tremaining: 99.8ms\n",
      "162:\tlearn: 0.5262356\ttotal: 429ms\tremaining: 97.3ms\n",
      "163:\tlearn: 0.5256928\ttotal: 432ms\tremaining: 94.9ms\n",
      "164:\tlearn: 0.5252249\ttotal: 435ms\tremaining: 92.2ms\n",
      "165:\tlearn: 0.5248962\ttotal: 438ms\tremaining: 89.7ms\n",
      "166:\tlearn: 0.5242283\ttotal: 441ms\tremaining: 87.2ms\n",
      "167:\tlearn: 0.5238131\ttotal: 444ms\tremaining: 84.6ms\n",
      "168:\tlearn: 0.5235024\ttotal: 447ms\tremaining: 82ms\n",
      "169:\tlearn: 0.5232877\ttotal: 450ms\tremaining: 79.4ms\n",
      "170:\tlearn: 0.5228963\ttotal: 453ms\tremaining: 76.7ms\n",
      "171:\tlearn: 0.5221316\ttotal: 455ms\tremaining: 74.1ms\n",
      "172:\tlearn: 0.5218540\ttotal: 458ms\tremaining: 71.4ms\n",
      "173:\tlearn: 0.5213379\ttotal: 460ms\tremaining: 68.8ms\n",
      "174:\tlearn: 0.5210750\ttotal: 463ms\tremaining: 66.1ms\n",
      "175:\tlearn: 0.5209064\ttotal: 465ms\tremaining: 63.4ms\n",
      "176:\tlearn: 0.5206384\ttotal: 468ms\tremaining: 60.8ms\n",
      "177:\tlearn: 0.5203684\ttotal: 471ms\tremaining: 58.2ms\n",
      "178:\tlearn: 0.5201608\ttotal: 473ms\tremaining: 55.5ms\n",
      "179:\tlearn: 0.5198005\ttotal: 476ms\tremaining: 52.8ms\n",
      "180:\tlearn: 0.5195860\ttotal: 478ms\tremaining: 50.2ms\n",
      "181:\tlearn: 0.5190778\ttotal: 481ms\tremaining: 47.5ms\n",
      "182:\tlearn: 0.5187696\ttotal: 483ms\tremaining: 44.9ms\n",
      "183:\tlearn: 0.5183537\ttotal: 486ms\tremaining: 42.2ms\n",
      "184:\tlearn: 0.5179507\ttotal: 488ms\tremaining: 39.6ms\n",
      "185:\tlearn: 0.5176477\ttotal: 491ms\tremaining: 36.9ms\n",
      "186:\tlearn: 0.5172812\ttotal: 493ms\tremaining: 34.3ms\n",
      "187:\tlearn: 0.5170280\ttotal: 496ms\tremaining: 31.7ms\n",
      "188:\tlearn: 0.5165151\ttotal: 498ms\tremaining: 29ms\n",
      "189:\tlearn: 0.5162803\ttotal: 501ms\tremaining: 26.4ms\n",
      "190:\tlearn: 0.5160415\ttotal: 504ms\tremaining: 23.7ms\n",
      "191:\tlearn: 0.5156894\ttotal: 506ms\tremaining: 21.1ms\n",
      "192:\tlearn: 0.5153645\ttotal: 509ms\tremaining: 18.4ms\n",
      "193:\tlearn: 0.5150747\ttotal: 511ms\tremaining: 15.8ms\n",
      "194:\tlearn: 0.5147055\ttotal: 513ms\tremaining: 13.2ms\n",
      "195:\tlearn: 0.5144988\ttotal: 516ms\tremaining: 10.5ms\n",
      "196:\tlearn: 0.5142165\ttotal: 519ms\tremaining: 7.9ms\n",
      "197:\tlearn: 0.5138521\ttotal: 522ms\tremaining: 5.27ms\n",
      "198:\tlearn: 0.5132739\ttotal: 524ms\tremaining: 2.63ms\n",
      "199:\tlearn: 0.5127636\ttotal: 527ms\tremaining: 0us\n"
     ]
    },
    {
     "data": {
      "text/plain": [
       "<catboost.core.CatBoostClassifier at 0x12a42da00>"
      ]
     },
     "execution_count": 144,
     "metadata": {},
     "output_type": "execute_result"
    }
   ],
   "source": [
    "from catboost import CatBoostClassifier\n",
    "clf2 = CatBoostClassifier(n_estimators=200, depth=5)\n",
    "clf2.fit(x_train, y_train, verbose=True)"
   ]
  },
  {
   "cell_type": "code",
   "execution_count": 145,
   "metadata": {},
   "outputs": [
    {
     "data": {
      "text/plain": [
       "0.7447787610619468"
      ]
     },
     "execution_count": 145,
     "metadata": {},
     "output_type": "execute_result"
    }
   ],
   "source": [
    "clf2.score(x_test, y_test)"
   ]
  },
  {
   "cell_type": "code",
   "execution_count": 160,
   "metadata": {},
   "outputs": [
    {
     "name": "stdout",
     "output_type": "stream",
     "text": [
      "CPU times: user 8.99 s, sys: 132 ms, total: 9.12 s\n",
      "Wall time: 9.13 s\n"
     ]
    },
    {
     "data": {
      "text/plain": [
       "RandomForestClassifier(criterion='entropy', n_estimators=500, random_state=0)"
      ]
     },
     "execution_count": 160,
     "metadata": {},
     "output_type": "execute_result"
    }
   ],
   "source": [
    "%%time\n",
    "from sklearn.ensemble import RandomForestClassifier\n",
    "clf3 = RandomForestClassifier(\n",
    "    criterion='entropy',\n",
    "    n_estimators=500,\n",
    "    max_depth=None,\n",
    "    min_samples_split=2,\n",
    "    min_samples_leaf=1,\n",
    "    random_state=0\n",
    ")\n",
    "clf3.fit(x_train, y_train)"
   ]
  },
  {
   "cell_type": "code",
   "execution_count": 161,
   "metadata": {},
   "outputs": [
    {
     "data": {
      "text/plain": [
       "0.7787610619469026"
      ]
     },
     "execution_count": 161,
     "metadata": {},
     "output_type": "execute_result"
    }
   ],
   "source": [
    "clf3.score(x_test, y_test)"
   ]
  },
  {
   "cell_type": "code",
   "execution_count": 162,
   "metadata": {},
   "outputs": [
    {
     "name": "stdout",
     "output_type": "stream",
     "text": [
      "              precision    recall  f1-score   support\n",
      "\n",
      "           0       0.78      0.77      0.77      1392\n",
      "           1       0.78      0.79      0.78      1433\n",
      "\n",
      "    accuracy                           0.78      2825\n",
      "   macro avg       0.78      0.78      0.78      2825\n",
      "weighted avg       0.78      0.78      0.78      2825\n",
      "\n"
     ]
    }
   ],
   "source": [
    "print(classification_report(y_test, clf3.predict(x_test)))"
   ]
  },
  {
   "cell_type": "code",
   "execution_count": 93,
   "metadata": {},
   "outputs": [
    {
     "data": {
      "text/plain": [
       "MLPClassifier()"
      ]
     },
     "execution_count": 93,
     "metadata": {},
     "output_type": "execute_result"
    }
   ],
   "source": [
    "from sklearn.neural_network import MLPClassifier\n",
    "clf4 = MLPClassifier()\n",
    "clf4.fit(x_train, y_train)"
   ]
  },
  {
   "cell_type": "code",
   "execution_count": 94,
   "metadata": {},
   "outputs": [
    {
     "data": {
      "text/plain": [
       "0.6138053097345133"
      ]
     },
     "execution_count": 94,
     "metadata": {},
     "output_type": "execute_result"
    }
   ],
   "source": [
    "clf4.score(x_test, y_test)"
   ]
  },
  {
   "cell_type": "code",
   "execution_count": 95,
   "metadata": {},
   "outputs": [
    {
     "data": {
      "text/plain": [
       "0.5961061946902655"
      ]
     },
     "execution_count": 95,
     "metadata": {},
     "output_type": "execute_result"
    }
   ],
   "source": [
    "from sklearn.naive_bayes import GaussianNB\n",
    "clf5 = GaussianNB()\n",
    "clf5.fit(x_train, y_train)\n",
    "clf5.score(x_test, y_test)"
   ]
  },
  {
   "cell_type": "code",
   "execution_count": 96,
   "metadata": {},
   "outputs": [
    {
     "data": {
      "text/plain": [
       "0.6095575221238938"
      ]
     },
     "execution_count": 96,
     "metadata": {},
     "output_type": "execute_result"
    }
   ],
   "source": [
    "from sklearn.discriminant_analysis import QuadraticDiscriminantAnalysis\n",
    "clf6 = QuadraticDiscriminantAnalysis()\n",
    "clf6.fit(x_train, y_train)\n",
    "clf6.score(x_test, y_test)"
   ]
  },
  {
   "cell_type": "code",
   "execution_count": 98,
   "metadata": {},
   "outputs": [
    {
     "data": {
      "text/plain": [
       "0.5844247787610619"
      ]
     },
     "execution_count": 98,
     "metadata": {},
     "output_type": "execute_result"
    }
   ],
   "source": [
    "from sklearn.svm import SVC\n",
    "clf = SVC()\n",
    "clf.fit(x_train, y_train)\n",
    "clf.score(x_test, y_test)"
   ]
  },
  {
   "cell_type": "code",
   "execution_count": 106,
   "metadata": {},
   "outputs": [
    {
     "data": {
      "text/plain": [
       "0.6697345132743363"
      ]
     },
     "execution_count": 106,
     "metadata": {},
     "output_type": "execute_result"
    }
   ],
   "source": [
    "from sklearn.neighbors import KNeighborsClassifier\n",
    "clf = KNeighborsClassifier(n_neighbors=1)\n",
    "clf.fit(x_train, y_train)\n",
    "clf.score(x_test, y_test)"
   ]
  },
  {
   "cell_type": "code",
   "execution_count": null,
   "metadata": {},
   "outputs": [],
   "source": []
  }
 ],
 "metadata": {
  "kernelspec": {
   "display_name": "Python 3",
   "language": "python",
   "name": "python3"
  },
  "language_info": {
   "codemirror_mode": {
    "name": "ipython",
    "version": 3
   },
   "file_extension": ".py",
   "mimetype": "text/x-python",
   "name": "python",
   "nbconvert_exporter": "python",
   "pygments_lexer": "ipython3",
   "version": "3.8.2"
  }
 },
 "nbformat": 4,
 "nbformat_minor": 4
}
